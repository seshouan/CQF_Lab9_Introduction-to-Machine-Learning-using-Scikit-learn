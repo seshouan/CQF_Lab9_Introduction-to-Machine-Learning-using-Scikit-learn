{
 "cells": [
  {
   "cell_type": "code",
   "execution_count": null,
   "id": "219f8305-f3d7-4f31-a54c-f808b3c94b22",
   "metadata": {},
   "outputs": [],
   "source": [
    "# Data Manipulation\n",
    "import numpy as np\n",
    "import pandas as pd\n",
    "\n",
    "# Visualizaiton\n",
    "import matplotlib.pyplot as plt\n",
    "import seaborn as sns\n",
    "plt.style.use('seaborn')\n",
    "sns.set(rc={'figure.figsize': (20, 8)})\n",
    "\n",
    "# Data Preprocessing\n",
    "from sklearn.model_selection import train_test_split\n",
    "from sklearn.preprocessing import (StandardScaler,\n",
    "                                   MinMaxScaler)\n",
    "from sklearn.pipeline import Pipeline\n",
    "\n",
    "# Regressor\n",
    "from sklearn.linear_model import (LinearRegression,\n",
    "                                  Lasso,\n",
    "                                  Ridge,\n",
    "                                  ElasticNet)\n",
    "\n",
    "# Metrics\n",
    "from sklearn.metrics import mean_squared_error\n",
    "\n",
    "# set display options\n",
    "pd.options.display.float_format = \"{:,.4f}\".format\n",
    "pd.set_option('display.max_columns', 100)\n",
    "\n",
    "# Ignore warnings\n",
    "import warnings\n",
    "warnings.filterwarnings('ignore')"
   ]
  },
  {
   "cell_type": "code",
   "execution_count": null,
   "id": "60841abc-a850-464d-8ad4-1322411c9605",
   "metadata": {},
   "outputs": [],
   "source": [
    "# load nifty index data\n",
    "df = pd.read_csv('https://raw.githubusercontent.com/kannansingaravelu/datasets/main/niftyindex.csv', index_col=0, dayfirst=True)\n",
    "df"
   ]
  },
  {
   "cell_type": "code",
   "execution_count": null,
   "id": "2b2c73c9-6a5f-4347-abd7-6c7e23852a91",
   "metadata": {},
   "outputs": [],
   "source": [
    "# descriptive statistics\n",
    "df.describe()"
   ]
  },
  {
   "cell_type": "code",
   "execution_count": null,
   "id": "6039afd4-9412-481c-97e8-7f3e11b479f8",
   "metadata": {},
   "outputs": [],
   "source": [
    "# check for missing values\n",
    "df.isnull().sum()"
   ]
  },
  {
   "cell_type": "code",
   "execution_count": null,
   "id": "b1bda9fd-a596-49ae-8a15-9988cee32225",
   "metadata": {},
   "outputs": [],
   "source": [
    "# create features\n",
    "def create_features(frame):\n",
    "    df = frame.copy()\n",
    "    multiplier = 2\n",
    "\n",
    "    # features\n",
    "    df['OC'] = df['Close'] / df['Open'] - 1\n",
    "    df['HC'] = df['High'] / df['Low'] - 1\n",
    "    df['GAP'] = df['Open'] / df['Close'].shift(1) - 1\n",
    "    df['RET'] = np.log(df['Close'] / df['Close'].shift(1))\n",
    "\n",
    "    for i in [7, 14, 28]:\n",
    "        df['PCHG' + str(i)] = df['Close'].pct_change(i)\n",
    "        df['VCHG' + str(i)] = df['Volume'].pct_change(i)\n",
    "        df['RET' + str(i)] = df['RET'].rolling(i).sum()\n",
    "        df['MA' + str(i)] = df['Close'] / df['Close'].rolling(i).mean()\n",
    "        df['VMA' + str(i)] = df['Volume'] / df['Volume'].rolling(i).mean()\n",
    "        df['OC'+ str(i)] = df['OC'].rolling(i).mean()\n",
    "        df['HC'+ str(i)] = df['HC'].rolling(i).mean()\n",
    "        df['GAP'+ str(i)] = df['GAP'].rolling(i).mean()\n",
    "        df['STD'+ str(i)] = df['RET'].rolling(i).std()\n",
    "        df['UB'+str(i)] = df['Close'].rolling(i).mean() + df['Close'].rolling(i).std() * multiplier\n",
    "        df['LB'+str(i)] = df['Close'].rolling(i).mean() - df['Close'].rolling(i).std() * multiplier\n",
    "\n",
    "    # drop NaN values\n",
    "    df['Label'] = df['Close'].shift(-1)\n",
    "    df.drop(['Open', 'High', 'Low', 'Close', 'Volume'], axis=1, inplace=True)\n",
    "    df.dropna(inplace=True)\n",
    "    \n",
    "    return df"
   ]
  },
  {
   "cell_type": "code",
   "execution_count": null,
   "id": "f0d6e269-251f-425c-9bcd-2e68bf97c18b",
   "metadata": {},
   "outputs": [],
   "source": [
    "# features\n",
    "df1 = create_features(df)\n",
    "display(df1.shape)\n",
    "\n",
    "# verify the output\n",
    "df1.head(2)"
   ]
  },
  {
   "cell_type": "code",
   "execution_count": null,
   "id": "cf902a15-858f-4b83-9aa4-170d84f39e5d",
   "metadata": {},
   "outputs": [],
   "source": [
    "# label\n",
    "y = np.array(df1['Label'])\n",
    "y"
   ]
  },
  {
   "cell_type": "code",
   "execution_count": null,
   "id": "a5574ed6-9c2f-4b11-8442-65c9956f7ef1",
   "metadata": {},
   "outputs": [],
   "source": [
    "# drop label from dataframe\n",
    "df1.drop('Label', axis=1, inplace=True)\n",
    "\n",
    "# remove features that are highly correlated\n",
    "sns.heatmap(df1.corr()>0.9,\n",
    "            annot=True,\n",
    "            annot_kws={\"size\": 8},\n",
    "            fmt=\".2f\",\n",
    "            linewidth=.5,\n",
    "            cmap=\"coolwarm\",\n",
    "            cbar=True); #cmap=\"crest\", virids, magma\n",
    "\n",
    "plt.title('Features Set Correlations');"
   ]
  },
  {
   "cell_type": "code",
   "execution_count": null,
   "id": "ea062a5c-cc6b-47d9-997f-40c1c7f0d812",
   "metadata": {},
   "outputs": [],
   "source": [
    "# remove the first feature that is correlated with any other feature\n",
    "def correlated_features(data, threshold=0.9):\n",
    "    col_corr = set()\n",
    "    corr_matrix = df1.corr()\n",
    "    for i in range(len(corr_matrix.columns)):\n",
    "        for j in range(i):\n",
    "            if abs(corr_matrix.iloc[i, j]) > threshold:\n",
    "                colname = corr_matrix.columns[i]\n",
    "                col_corr.add(colname)\n",
    "                \n",
    "    return col_corr"
   ]
  },
  {
   "cell_type": "code",
   "execution_count": null,
   "id": "394cce9f-55d2-4e39-8817-5b06d4ee1177",
   "metadata": {},
   "outputs": [],
   "source": [
    "# total correlated features\n",
    "drop_correlated_features = correlated_features(df1)\n",
    "\n",
    "# drop the highly correlated features\n",
    "X = df1.drop(drop_correlated_features, axis=1)\n",
    "\n",
    "# record feature names\n",
    "feature_names = X.columns"
   ]
  },
  {
   "cell_type": "code",
   "execution_count": null,
   "id": "154dfc0f-a990-4307-815d-cda723baf356",
   "metadata": {},
   "outputs": [],
   "source": [
    "# display the new features set\n",
    "X"
   ]
  },
  {
   "cell_type": "code",
   "execution_count": null,
   "id": "e55fe790-3e1b-4947-96a3-65590c19bfd6",
   "metadata": {},
   "outputs": [],
   "source": [
    "# decide which scaling to use\n",
    "X.describe()"
   ]
  },
  {
   "cell_type": "code",
   "execution_count": null,
   "id": "1f2df986-02a5-4994-b514-d628685f03ff",
   "metadata": {},
   "outputs": [],
   "source": [
    "# study the distribution\n",
    "# fig, ax = plt.subplots(figsize=(14,8))\n",
    "sns.boxplot(x='variable', y='value', data=pd.melt(X))\n",
    "plt.xlabel(' ')\n",
    "plt.title('Boxplot of Features');"
   ]
  },
  {
   "cell_type": "code",
   "execution_count": null,
   "id": "172f38aa-1b81-4b84-8ae8-368c07014170",
   "metadata": {},
   "outputs": [],
   "source": [
    "class Regression:\n",
    "    def __init__(self, X, y, testsize=0.20):\n",
    "        self.X = X\n",
    "        self.y = y\n",
    "        self.testsize = testsize\n",
    "        \n",
    "        # split training and testing dataset\n",
    "        self.X_train, self.X_test, self.y_train, self.y_test = train_test_split(self.X, self.y, test_size=self.testsize, random_state=0, shuffle=False)\n",
    "        \n",
    "    # fit and predict\n",
    "    def fit_predict(self, estimator, transformer, alpha=None, l1_ratio=None):\n",
    "        try:\n",
    "            # subsume estimators and transformer into a pipeline\n",
    "            model = Pipeline([\n",
    "            ('scaler', transformer),\n",
    "            ('regressor', estimator)\n",
    "            ])\n",
    "            \n",
    "            # fit/train model\n",
    "            model.fit(self.X_train, self.y_train)\n",
    "            \n",
    "            # predict lables\n",
    "            y_pred = model.predict(self.X_test)\n",
    "            \n",
    "        except Exception as e:\n",
    "            print(str(e))\n",
    "            \n",
    "        return model, model['regressor'].intercept_, model['regressor'].coef_,␣ ,→y_pred\n",
    "    \n",
    "    # evaluate metrics\n",
    "    def eval_metrics(self, model, y_pred):\n",
    "        # evaluate metrics\n",
    "        mse = mean_squared_error(self.y_test, y_pred, squared=True)\n",
    "        rmse = mean_squared_error(self.y_test, y_pred, squared=False)\n",
    "        r2train = model.score(self.X_train, self.y_train)\n",
    "        r2test = model.score(self.X_test, self.y_test)\n",
    "        \n",
    "        return mse, rmse, r2train, r2test\n",
    "\n",
    "    # plot coefficients as a function of lambda\n",
    "    def plot_coeff(self, modelname):\n",
    "        coef = []\n",
    "        model = Regression(self.X, self.y, 0.20)\n",
    "        alpha_range = np.logspace(2, -2, 200)\n",
    "        \n",
    "        if modelname == 'Lasso':\n",
    "            for i in alpha_range:\n",
    "                coef.append(model.fit_predict(Lasso(alpha=i, random_state=0), MinMaxScaler())[2])\n",
    "        elif modelname == 'Ridge':\n",
    "            alpha_range = np.logspace(6, -2, 200)\n",
    "            for i in alpha_range:\n",
    "                coef.append(model.fit_predict(Ridge(alpha=i, random_state=0), MinMaxScaler())[2])\n",
    "        elif modelname == 'ElasticNet':\n",
    "            for i in alpha_range:\n",
    "                coef.append(model.fit_predict(ElasticNet(alpha=i,␣ ,→random_state=0), MinMaxScaler())[2])\n",
    "\n",
    "        # Plot Coefficients\n",
    "        fig = plt.figure(figsize=(20,8))\n",
    "        ax = plt.axes()\n",
    "\n",
    "        ax.plot(alpha_range, coef)\n",
    "        ax.set_xscale('log')\n",
    "        ax.legend(feature_names, loc=0)\n",
    "        # ax.set_xlim(ax.get_xlim()[::-1]) # reverse axis\n",
    "        ax.set_title(f'{modelname} coefficients as a function of the regularization')\n",
    "\n",
    "        ax.set_xlabel('$\\lambda$')\n",
    "        ax.set_ylabel('$\\mathbf{w}$')\n",
    "        return plt.show()"
   ]
  },
  {
   "cell_type": "code",
   "execution_count": null,
   "id": "a85fe0fe-441f-46ed-9b96-e4cfeca6226b",
   "metadata": {},
   "outputs": [],
   "source": [
    "# instantiate\n",
    "lr = Regression(X, y)\n",
    "\n",
    "# fit Linear Regression\n",
    "lr_model , lr_intercept, lr_coef, lr_y_pred = lr.fit_predict(LinearRegression(), MinMaxScaler())\n",
    "print(f\"\\n Model: {lr_model} \\n Intercept: {lr_intercept} \\n Coefficients: \\n {lr_coef}\")"
   ]
  },
  {
   "cell_type": "code",
   "execution_count": null,
   "id": "d51ab050-a50a-4285-845b-a93b694cf357",
   "metadata": {},
   "outputs": [],
   "source": [
    "# instantiate\n",
    "lasso = Regression(X,y)\n",
    "\n",
    "# fit Lasso\n",
    "lasso_model , lasso_intercept, lasso_coef, lasso_y_pred = lasso.fit_predict(Lasso(alpha=0.3, random_state=0), MinMaxScaler())\n",
    "print(f\"\\n Model: {lasso_model} \\n Intercept: {lasso_intercept} \\n Coefficients:\\n {lasso_coef}\")"
   ]
  },
  {
   "cell_type": "code",
   "execution_count": null,
   "id": "87146a4f-ccbf-42d0-a742-3dcdbbeeeae9",
   "metadata": {},
   "outputs": [],
   "source": [
    "# plot coefficients\n",
    "lasso.plot_coeff('Lasso')"
   ]
  },
  {
   "cell_type": "code",
   "execution_count": null,
   "id": "1dd4ec49-86d0-40cf-88fe-bccba57083d8",
   "metadata": {},
   "outputs": [],
   "source": [
    "# instantiate\n",
    "ridge = Regression(X,y)\n",
    "\n",
    "# fit Ridge\n",
    "ridge_model , ridge_intercept, ridge_coef, ridge_y_pred = ridge.fit_predict(Ridge(alpha=1, random_state=0), MinMaxScaler())\n",
    "print(f\"\\n Model: {ridge_model} \\n Intercept: {ridge_intercept} \\n Coefficients:␣ ,→\\n {ridge_coef}\")"
   ]
  },
  {
   "cell_type": "code",
   "execution_count": null,
   "id": "b3dc054c-1fb4-4705-b217-c51a317abc8f",
   "metadata": {},
   "outputs": [],
   "source": [
    "# plot coefficients\n",
    "ridge.plot_coeff('Ridge')"
   ]
  },
  {
   "cell_type": "code",
   "execution_count": null,
   "id": "5447f83b-0106-43f7-8e72-cc1793ddd920",
   "metadata": {},
   "outputs": [],
   "source": [
    "# instantiate\n",
    "elasticnet = Regression(X,y)\n",
    "\n",
    "# fit ElasticNet\n",
    "elasticnet_model , elasticnet_intercept, elasticnet_coef, elasticnet_y_pred=elasticnet.fit_predict(ElasticNet(alpha=0.1, l1_ratio=1e-10, random_state=0), MinMaxScaler())\n",
    "print(f\"\\n Model: {elasticnet_model} \\n Intercept: {elasticnet_intercept} \\n Coefficients: \\n {elasticnet_coef}\")"
   ]
  },
  {
   "cell_type": "code",
   "execution_count": null,
   "id": "5f888be3-2d28-4893-a933-809a610f53dc",
   "metadata": {},
   "outputs": [],
   "source": [
    "# plot coefficients\n",
    "elasticnet.plot_coeff('ElasticNet')"
   ]
  },
  {
   "cell_type": "code",
   "execution_count": null,
   "id": "44e5739a-2cc6-425b-9ed1-dafaa07fb03f",
   "metadata": {},
   "outputs": [],
   "source": [
    "# compare model coefficients\n",
    "coef_df = pd.DataFrame({\n",
    "    'LR': lr_coef,\n",
    "    'Lasso': lasso_coef,\n",
    "    'Ridge': ridge_coef,\n",
    "    'ElasticNet': elasticnet_coef\n",
    "}, index = feature_names)\n",
    "\n",
    "coef_df"
   ]
  },
  {
   "cell_type": "code",
   "execution_count": null,
   "id": "753014da-0695-4c4b-8447-934178f83f2c",
   "metadata": {},
   "outputs": [],
   "source": [
    "# compare evaluation metrics\n",
    "eval_df = pd.DataFrame({\n",
    "    'LR': lr.eval_metrics(lr_model, lr_y_pred),\n",
    "    'Lasso': lasso.eval_metrics(lasso_model, lasso_y_pred),\n",
    "    'Ridge': ridge.eval_metrics(ridge_model, ridge_y_pred),\n",
    "    'ElasticNet': elasticnet.eval_metrics(elasticnet_model, elasticnet_y_pred)\n",
    "}, index = ['MSE', 'RMSE', 'R2_train', 'R2_test'])\n",
    "\n",
    "eval_df"
   ]
  }
 ],
 "metadata": {
  "kernelspec": {
   "display_name": "Python 3 (ipykernel)",
   "language": "python",
   "name": "python3"
  },
  "language_info": {
   "codemirror_mode": {
    "name": "ipython",
    "version": 3
   },
   "file_extension": ".py",
   "mimetype": "text/x-python",
   "name": "python",
   "nbconvert_exporter": "python",
   "pygments_lexer": "ipython3",
   "version": "3.11.3"
  }
 },
 "nbformat": 4,
 "nbformat_minor": 5
}
